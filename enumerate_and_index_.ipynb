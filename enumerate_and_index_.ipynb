{
  "nbformat": 4,
  "nbformat_minor": 0,
  "metadata": {
    "colab": {
      "provenance": [],
      "authorship_tag": "ABX9TyMucqBKARA878UYF2PhmkOZ",
      "include_colab_link": true
    },
    "kernelspec": {
      "name": "python3",
      "display_name": "Python 3"
    },
    "language_info": {
      "name": "python"
    }
  },
  "cells": [
    {
      "cell_type": "markdown",
      "metadata": {
        "id": "view-in-github",
        "colab_type": "text"
      },
      "source": [
        "<a href=\"https://colab.research.google.com/github/abdurrahman16/python-2025/blob/main/enumerate_and_index_.ipynb\" target=\"_parent\"><img src=\"https://colab.research.google.com/assets/colab-badge.svg\" alt=\"Open In Colab\"/></a>"
      ]
    },
    {
      "cell_type": "code",
      "source": [
        "\n",
        "fruits={'Mango', 'Apple', 'Banana', 'Orange'}\n",
        "for index, fruit in enumerate(fruits):\n",
        "  print(index, fruit)\n",
        "  print('-'*30)\n",
        "  if index==2:\n",
        "    fruit=fruit*10\n",
        "    print(fruit)\n"
      ],
      "metadata": {
        "colab": {
          "base_uri": "https://localhost:8080/"
        },
        "id": "S44xelDiRhBS",
        "outputId": "7a5b3cb0-4727-4b6b-aa3b-b81e1e78d0ad"
      },
      "execution_count": 16,
      "outputs": [
        {
          "output_type": "stream",
          "name": "stdout",
          "text": [
            "0 Banana\n",
            "------------------------------\n",
            "1 Apple\n",
            "------------------------------\n",
            "2 Mango\n",
            "------------------------------\n",
            "MangoMangoMangoMangoMangoMangoMangoMangoMangoMango\n",
            "3 Orange\n",
            "------------------------------\n"
          ]
        }
      ]
    }
  ]
}