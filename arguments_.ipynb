{
  "nbformat": 4,
  "nbformat_minor": 0,
  "metadata": {
    "colab": {
      "provenance": [],
      "authorship_tag": "ABX9TyNnMrAU9zS/QmhwgzBWDONY",
      "include_colab_link": true
    },
    "kernelspec": {
      "name": "python3",
      "display_name": "Python 3"
    },
    "language_info": {
      "name": "python"
    }
  },
  "cells": [
    {
      "cell_type": "markdown",
      "metadata": {
        "id": "view-in-github",
        "colab_type": "text"
      },
      "source": [
        "<a href=\"https://colab.research.google.com/github/abdurrahman16/python-2025/blob/main/arguments_.ipynb\" target=\"_parent\"><img src=\"https://colab.research.google.com/assets/colab-badge.svg\" alt=\"Open In Colab\"/></a>"
      ]
    },
    {
      "cell_type": "code",
      "source": [
        "def addition(*args):\n",
        " return sum(args)\n",
        "result=addition(2,5,9)\n",
        "print(result)\n",
        "\n"
      ],
      "metadata": {
        "id": "dxm9yzrLapn3",
        "colab": {
          "base_uri": "https://localhost:8080/"
        },
        "outputId": "840189e9-a73c-44e5-b824-221932018090"
      },
      "execution_count": 25,
      "outputs": [
        {
          "output_type": "stream",
          "name": "stdout",
          "text": [
            "16\n"
          ]
        }
      ]
    },
    {
      "cell_type": "code",
      "source": [],
      "metadata": {
        "id": "BVuBKjDGjBzp"
      },
      "execution_count": null,
      "outputs": []
    }
  ]
}