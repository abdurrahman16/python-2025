{
  "nbformat": 4,
  "nbformat_minor": 0,
  "metadata": {
    "colab": {
      "provenance": [],
      "authorship_tag": "ABX9TyNBtyzQugnmAzvJaHbhsQRr",
      "include_colab_link": true
    },
    "kernelspec": {
      "name": "python3",
      "display_name": "Python 3"
    },
    "language_info": {
      "name": "python"
    }
  },
  "cells": [
    {
      "cell_type": "markdown",
      "metadata": {
        "id": "view-in-github",
        "colab_type": "text"
      },
      "source": [
        "<a href=\"https://colab.research.google.com/github/abdurrahman16/python-2025/blob/main/python.ipynb\" target=\"_parent\"><img src=\"https://colab.research.google.com/assets/colab-badge.svg\" alt=\"Open In Colab\"/></a>"
      ]
    },
    {
      "cell_type": "code",
      "source": [
        " #reuslt program\n",
        "marks= int(input('Enter Your Makrs: '))\n",
        "if marks>=90:\n",
        "  grade ='A+'\n",
        "  comment='Excellent'\n",
        "elif marks>=80:\n",
        "  grade='A'\n",
        "  comment='Good'\n",
        "elif marks>=70:\n",
        "  grade= 'B'\n",
        "  comment= 'Not good'\n",
        "else:\n",
        "  grade='F'\n",
        "  comment='You are suspended from school'\n",
        "\n",
        "print(marks, grade, comment)\n",
        "\n"
      ],
      "metadata": {
        "colab": {
          "base_uri": "https://localhost:8080/"
        },
        "id": "DmRziq7_Hp4C",
        "outputId": "876c7eb9-c4e7-45fc-e937-4f9397915623"
      },
      "execution_count": null,
      "outputs": [
        {
          "output_type": "stream",
          "name": "stdout",
          "text": [
            "Enter Your Makrs: 69\n",
            "69 F You are suspended from school\n"
          ]
        }
      ]
    }
  ]
}