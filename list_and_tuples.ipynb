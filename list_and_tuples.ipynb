{
  "nbformat": 4,
  "nbformat_minor": 0,
  "metadata": {
    "colab": {
      "provenance": [],
      "authorship_tag": "ABX9TyNs/a3jQmFZjhj90kKYhwrD",
      "include_colab_link": true
    },
    "kernelspec": {
      "name": "python3",
      "display_name": "Python 3"
    },
    "language_info": {
      "name": "python"
    }
  },
  "cells": [
    {
      "cell_type": "markdown",
      "metadata": {
        "id": "view-in-github",
        "colab_type": "text"
      },
      "source": [
        "<a href=\"https://colab.research.google.com/github/abdurrahman16/python-2025/blob/main/list_and_tuples.ipynb\" target=\"_parent\"><img src=\"https://colab.research.google.com/assets/colab-badge.svg\" alt=\"Open In Colab\"/></a>"
      ]
    },
    {
      "cell_type": "code",
      "source": [
        "#list\n",
        "alist=[1,2,0,'babu','Chadny',5.3,0.333]\n",
        "print(alist)\n",
        "print(alist[3])\n",
        "print(alist[-3])\n",
        "alist.append('bubi')\n",
        "print(alist)\n",
        "alist.reverse()\n",
        "print(alist)\n",
        "alist[3]='Ar'\n",
        "print(alist)\n",
        "\n",
        "#tuples\n",
        "tupple =(1,2,3)\n",
        "print(tupple)\n",
        "#tuples is immutable\n",
        "t= reversed(tupple)\n",
        "print(t)\n",
        "\n"
      ],
      "metadata": {
        "colab": {
          "base_uri": "https://localhost:8080/"
        },
        "id": "ax0QWsTzMajr",
        "outputId": "dbb40a7d-756d-4f25-e6a6-85b6944d5bc2"
      },
      "execution_count": 14,
      "outputs": [
        {
          "output_type": "stream",
          "name": "stdout",
          "text": [
            "[1, 2, 0, 'babu', 'Chadny', 5.3, 0.333]\n",
            "babu\n",
            "Chadny\n",
            "[1, 2, 0, 'babu', 'Chadny', 5.3, 0.333, 'bubi']\n",
            "['bubi', 0.333, 5.3, 'Chadny', 'babu', 0, 2, 1]\n",
            "['bubi', 0.333, 5.3, 'Ar', 'babu', 0, 2, 1]\n",
            "(1, 2, 3)\n",
            "<reversed object at 0x7e2d32f6ad70>\n"
          ]
        }
      ]
    }
  ]
}