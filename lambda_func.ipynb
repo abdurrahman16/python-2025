{
  "nbformat": 4,
  "nbformat_minor": 0,
  "metadata": {
    "colab": {
      "provenance": [],
      "authorship_tag": "ABX9TyPYdL8r3JIr0LrpPUjeh33/",
      "include_colab_link": true
    },
    "kernelspec": {
      "name": "python3",
      "display_name": "Python 3"
    },
    "language_info": {
      "name": "python"
    }
  },
  "cells": [
    {
      "cell_type": "markdown",
      "metadata": {
        "id": "view-in-github",
        "colab_type": "text"
      },
      "source": [
        "<a href=\"https://colab.research.google.com/github/abdurrahman16/python-2025/blob/main/lambda_func.ipynb\" target=\"_parent\"><img src=\"https://colab.research.google.com/assets/colab-badge.svg\" alt=\"Open In Colab\"/></a>"
      ]
    },
    {
      "cell_type": "code",
      "source": [
        "newfunc= lambda a,b: a+b\n",
        "print(newfunc(12,13))\n",
        "\n",
        "fun = lambda x: x*x\n",
        "print(fun(10))\n",
        "\n",
        "testsheet=[('rahim',53), ('karim', 25), ('akkas',68)]\n",
        "print(testsheet)\n",
        "print(\"-\"*30)\n",
        "sorted_result = sorted(testsheet, key=lambda x: x[1])\n",
        "print(sorted_result)\n"
      ],
      "metadata": {
        "id": "dxm9yzrLapn3",
        "colab": {
          "base_uri": "https://localhost:8080/"
        },
        "outputId": "618c47b9-79f5-4c98-8702-178b47feeb18"
      },
      "execution_count": 32,
      "outputs": [
        {
          "output_type": "stream",
          "name": "stdout",
          "text": [
            "25\n",
            "100\n",
            "[('rahim', 53), ('karim', 25), ('akkas', 68)]\n",
            "------------------------------\n",
            "[('karim', 25), ('rahim', 53), ('akkas', 68)]\n"
          ]
        }
      ]
    },
    {
      "cell_type": "code",
      "source": [],
      "metadata": {
        "id": "BVuBKjDGjBzp"
      },
      "execution_count": null,
      "outputs": []
    }
  ]
}