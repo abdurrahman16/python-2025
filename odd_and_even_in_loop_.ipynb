{
  "nbformat": 4,
  "nbformat_minor": 0,
  "metadata": {
    "colab": {
      "provenance": [],
      "authorship_tag": "ABX9TyM2ytkORCEuL2AiecWHY0mp",
      "include_colab_link": true
    },
    "kernelspec": {
      "name": "python3",
      "display_name": "Python 3"
    },
    "language_info": {
      "name": "python"
    }
  },
  "cells": [
    {
      "cell_type": "markdown",
      "metadata": {
        "id": "view-in-github",
        "colab_type": "text"
      },
      "source": [
        "<a href=\"https://colab.research.google.com/github/abdurrahman16/python-2025/blob/main/odd_and_even_in_loop_.ipynb\" target=\"_parent\"><img src=\"https://colab.research.google.com/assets/colab-badge.svg\" alt=\"Open In Colab\"/></a>"
      ]
    },
    {
      "cell_type": "code",
      "source": [
        "\n",
        "a=[10,15,9,12,25]\n",
        "i=0\n",
        "for i in a:\n",
        "  if i%2==0:\n",
        "    print(f'Even Number: {i}')\n",
        "  else:\n",
        "    print(f'Odd Number: {i}')\n",
        "\n",
        "\n",
        "\n"
      ],
      "metadata": {
        "colab": {
          "base_uri": "https://localhost:8080/"
        },
        "id": "S44xelDiRhBS",
        "outputId": "360305f1-887c-4c56-9d3a-607a4772eb8b"
      },
      "execution_count": 46,
      "outputs": [
        {
          "output_type": "stream",
          "name": "stdout",
          "text": [
            "Even Number: 10\n",
            "Odd Number: 15\n",
            "Odd Number: 9\n",
            "Even Number: 12\n",
            "Odd Number: 25\n"
          ]
        }
      ]
    }
  ]
}