{
  "nbformat": 4,
  "nbformat_minor": 0,
  "metadata": {
    "colab": {
      "provenance": [],
      "authorship_tag": "ABX9TyO+u7iBzs+y/zQwR3p8ovTa",
      "include_colab_link": true
    },
    "kernelspec": {
      "name": "python3",
      "display_name": "Python 3"
    },
    "language_info": {
      "name": "python"
    }
  },
  "cells": [
    {
      "cell_type": "markdown",
      "metadata": {
        "id": "view-in-github",
        "colab_type": "text"
      },
      "source": [
        "<a href=\"https://colab.research.google.com/github/abdurrahman16/python-2025/blob/main/error_handling.ipynb\" target=\"_parent\"><img src=\"https://colab.research.google.com/assets/colab-badge.svg\" alt=\"Open In Colab\"/></a>"
      ]
    },
    {
      "cell_type": "code",
      "source": [
        "try:\n",
        "  with open('checkera.txt', 'r') as reader:\n",
        "    print(reader.read())\n",
        "except FileNotFoundError:\n",
        "  print(\" File wa arimasen\")\n"
      ],
      "metadata": {
        "id": "BVuBKjDGjBzp",
        "colab": {
          "base_uri": "https://localhost:8080/"
        },
        "outputId": "0010f815-add7-419e-cf5d-1bf5cae623a4"
      },
      "execution_count": 14,
      "outputs": [
        {
          "output_type": "stream",
          "name": "stdout",
          "text": [
            " File wa arimasen\n"
          ]
        }
      ]
    }
  ]
}