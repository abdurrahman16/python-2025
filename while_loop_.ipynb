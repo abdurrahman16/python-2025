{
  "nbformat": 4,
  "nbformat_minor": 0,
  "metadata": {
    "colab": {
      "provenance": [],
      "authorship_tag": "ABX9TyOCmqRLnWJAc1kSPe8vkpdU",
      "include_colab_link": true
    },
    "kernelspec": {
      "name": "python3",
      "display_name": "Python 3"
    },
    "language_info": {
      "name": "python"
    }
  },
  "cells": [
    {
      "cell_type": "markdown",
      "metadata": {
        "id": "view-in-github",
        "colab_type": "text"
      },
      "source": [
        "<a href=\"https://colab.research.google.com/github/abdurrahman16/python-2025/blob/main/while_loop_.ipynb\" target=\"_parent\"><img src=\"https://colab.research.google.com/assets/colab-badge.svg\" alt=\"Open In Colab\"/></a>"
      ]
    },
    {
      "cell_type": "code",
      "source": [
        "\n",
        "a=[10,15,9,12,25]\n",
        "i=0\n",
        "while i<len(a):\n",
        "  temp=a[i]\n",
        "  print(f'index: {i} {temp}')\n",
        "  if (temp>10):\n",
        "    print(temp,'is greater greater than 10')\n",
        "  i=i+1\n",
        "\n",
        "\n"
      ],
      "metadata": {
        "colab": {
          "base_uri": "https://localhost:8080/"
        },
        "id": "S44xelDiRhBS",
        "outputId": "918c20d8-85fe-46d2-9da1-22ca0cfde3a4"
      },
      "execution_count": 25,
      "outputs": [
        {
          "output_type": "stream",
          "name": "stdout",
          "text": [
            "index: 0 10\n",
            "index: 1 15\n",
            "15 is greater greater than 10\n",
            "index: 2 9\n",
            "index: 3 12\n",
            "12 is greater greater than 10\n",
            "index: 4 25\n",
            "25 is greater greater than 10\n"
          ]
        }
      ]
    }
  ]
}