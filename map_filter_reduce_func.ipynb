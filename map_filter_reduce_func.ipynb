{
  "nbformat": 4,
  "nbformat_minor": 0,
  "metadata": {
    "colab": {
      "provenance": [],
      "authorship_tag": "ABX9TyOyHIGA9M91cfJzvc+pfE5+",
      "include_colab_link": true
    },
    "kernelspec": {
      "name": "python3",
      "display_name": "Python 3"
    },
    "language_info": {
      "name": "python"
    }
  },
  "cells": [
    {
      "cell_type": "markdown",
      "metadata": {
        "id": "view-in-github",
        "colab_type": "text"
      },
      "source": [
        "<a href=\"https://colab.research.google.com/github/abdurrahman16/python-2025/blob/main/map_filter_reduce_func.ipynb\" target=\"_parent\"><img src=\"https://colab.research.google.com/assets/colab-badge.svg\" alt=\"Open In Colab\"/></a>"
      ]
    },
    {
      "cell_type": "code",
      "source": [
        "import functools\n",
        "#map function\n",
        "a=[2,3,9]\n",
        "sq= list(map(lambda x:x*x,a))\n",
        "print(sq)\n",
        "print('-'*50)\n",
        "\n",
        "#filter\n",
        "a=[2,3,9]\n",
        "checker= list(filter(lambda x:x>=3,a))\n",
        "print(checker)\n",
        "print('-'*50)\n",
        "\n",
        "#reduce\n",
        "sums= functools.reduce(lambda x,y:x+y, a)\n",
        "print(sum)\n",
        "\n",
        "\n"
      ],
      "metadata": {
        "id": "dxm9yzrLapn3",
        "colab": {
          "base_uri": "https://localhost:8080/"
        },
        "outputId": "557cd04c-3039-472b-8792-b65dbc5cd103"
      },
      "execution_count": 36,
      "outputs": [
        {
          "output_type": "stream",
          "name": "stdout",
          "text": [
            "[4, 9, 81]\n",
            "--------------------------------------------------\n",
            "[3, 9]\n",
            "--------------------------------------------------\n"
          ]
        }
      ]
    },
    {
      "cell_type": "code",
      "source": [],
      "metadata": {
        "id": "BVuBKjDGjBzp"
      },
      "execution_count": null,
      "outputs": []
    }
  ]
}