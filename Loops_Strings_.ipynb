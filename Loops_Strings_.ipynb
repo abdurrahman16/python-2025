{
  "nbformat": 4,
  "nbformat_minor": 0,
  "metadata": {
    "colab": {
      "provenance": [],
      "authorship_tag": "ABX9TyO7L2JXxt8qN+sLOOP7NP+j",
      "include_colab_link": true
    },
    "kernelspec": {
      "name": "python3",
      "display_name": "Python 3"
    },
    "language_info": {
      "name": "python"
    }
  },
  "cells": [
    {
      "cell_type": "markdown",
      "metadata": {
        "id": "view-in-github",
        "colab_type": "text"
      },
      "source": [
        "<a href=\"https://colab.research.google.com/github/abdurrahman16/python-2025/blob/main/Loops_Strings_.ipynb\" target=\"_parent\"><img src=\"https://colab.research.google.com/assets/colab-badge.svg\" alt=\"Open In Colab\"/></a>"
      ]
    },
    {
      "cell_type": "code",
      "source": [
        "#iterating through a list\n",
        "\n",
        "fruits={'Mango', 'Apple', 'Banana', 'Orange'}\n",
        "print('Fav fruits is: ')\n",
        "for fruit in fruits:\n",
        "  print('-',fruit)\n",
        "\n",
        "print('='*30)"
      ],
      "metadata": {
        "colab": {
          "base_uri": "https://localhost:8080/"
        },
        "id": "S44xelDiRhBS",
        "outputId": "b6a9dc72-da1f-4586-f42e-bbc1020858c9"
      },
      "execution_count": 6,
      "outputs": [
        {
          "output_type": "stream",
          "name": "stdout",
          "text": [
            "Fav fruits is: \n",
            "- Banana\n",
            "- Apple\n",
            "- Mango\n",
            "- Orange\n",
            "==============================\n"
          ]
        }
      ]
    }
  ]
}