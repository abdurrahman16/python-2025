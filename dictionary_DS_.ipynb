{
  "nbformat": 4,
  "nbformat_minor": 0,
  "metadata": {
    "colab": {
      "provenance": [],
      "authorship_tag": "ABX9TyPF9/9h1TmhKUDMEiILHHzY",
      "include_colab_link": true
    },
    "kernelspec": {
      "name": "python3",
      "display_name": "Python 3"
    },
    "language_info": {
      "name": "python"
    }
  },
  "cells": [
    {
      "cell_type": "markdown",
      "metadata": {
        "id": "view-in-github",
        "colab_type": "text"
      },
      "source": [
        "<a href=\"https://colab.research.google.com/github/abdurrahman16/python-2025/blob/main/dictionary_DS_.ipynb\" target=\"_parent\"><img src=\"https://colab.research.google.com/assets/colab-badge.svg\" alt=\"Open In Colab\"/></a>"
      ]
    },
    {
      "cell_type": "code",
      "source": [
        "x=list(range(0,50))\n",
        "\n",
        "result= {i: 'Even' if i%2==0 else 'Odd' for i in x}\n",
        "print(result)\n"
      ],
      "metadata": {
        "colab": {
          "base_uri": "https://localhost:8080/"
        },
        "id": "S44xelDiRhBS",
        "outputId": "5b49cd65-4e63-44a6-c371-94c420e7726d"
      },
      "execution_count": 16,
      "outputs": [
        {
          "output_type": "stream",
          "name": "stdout",
          "text": [
            "{0: 'Even', 1: 'Odd', 2: 'Even', 3: 'Odd', 4: 'Even', 5: 'Odd', 6: 'Even', 7: 'Odd', 8: 'Even', 9: 'Odd', 10: 'Even', 11: 'Odd', 12: 'Even', 13: 'Odd', 14: 'Even', 15: 'Odd', 16: 'Even', 17: 'Odd', 18: 'Even', 19: 'Odd', 20: 'Even', 21: 'Odd', 22: 'Even', 23: 'Odd', 24: 'Even', 25: 'Odd', 26: 'Even', 27: 'Odd', 28: 'Even', 29: 'Odd', 30: 'Even', 31: 'Odd', 32: 'Even', 33: 'Odd', 34: 'Even', 35: 'Odd', 36: 'Even', 37: 'Odd', 38: 'Even', 39: 'Odd', 40: 'Even', 41: 'Odd', 42: 'Even', 43: 'Odd', 44: 'Even', 45: 'Odd', 46: 'Even', 47: 'Odd', 48: 'Even', 49: 'Odd'}\n"
          ]
        }
      ]
    },
    {
      "cell_type": "code",
      "source": [],
      "metadata": {
        "id": "dxm9yzrLapn3"
      },
      "execution_count": null,
      "outputs": []
    }
  ]
}