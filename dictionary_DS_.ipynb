{
  "nbformat": 4,
  "nbformat_minor": 0,
  "metadata": {
    "colab": {
      "provenance": [],
      "authorship_tag": "ABX9TyNs/6wkZcyEflaZUeiIxNOH",
      "include_colab_link": true
    },
    "kernelspec": {
      "name": "python3",
      "display_name": "Python 3"
    },
    "language_info": {
      "name": "python"
    }
  },
  "cells": [
    {
      "cell_type": "markdown",
      "metadata": {
        "id": "view-in-github",
        "colab_type": "text"
      },
      "source": [
        "<a href=\"https://colab.research.google.com/github/abdurrahman16/python-2025/blob/main/dictionary_DS_.ipynb\" target=\"_parent\"><img src=\"https://colab.research.google.com/assets/colab-badge.svg\" alt=\"Open In Colab\"/></a>"
      ]
    },
    {
      "cell_type": "code",
      "source": [
        "nlist={'Rahim': 12, 'Karim': 24, 'Kadir': 22, 2: 56, 3:57}\n",
        "#print(nlist)\n",
        "#print(nlist.values())\n",
        "# for i in nlist:\n",
        "#   print(i)\n",
        "\n",
        "for index, values in nlist.items():\n",
        "    print(f'Index is:{index} and Values is: {values}')\n",
        "\n",
        "a=[1, 2, 3]\n",
        "b=['A','B','C']\n",
        "c= dict(zip(a,b))\n",
        "print(c)\n",
        "print(c[3])\n",
        "\n"
      ],
      "metadata": {
        "colab": {
          "base_uri": "https://localhost:8080/"
        },
        "id": "S44xelDiRhBS",
        "outputId": "3fce40aa-229b-48e2-9ae0-9adabfeae030"
      },
      "execution_count": 9,
      "outputs": [
        {
          "output_type": "stream",
          "name": "stdout",
          "text": [
            "Index is:Rahim and Values is: 12\n",
            "Index is:Karim and Values is: 24\n",
            "Index is:Kadir and Values is: 22\n",
            "Index is:2 and Values is: 56\n",
            "Index is:3 and Values is: 57\n",
            "{1: 'A', 2: 'B', 3: 'C'}\n",
            "C\n"
          ]
        }
      ]
    }
  ]
}