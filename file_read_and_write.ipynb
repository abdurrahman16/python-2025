{
  "nbformat": 4,
  "nbformat_minor": 0,
  "metadata": {
    "colab": {
      "provenance": [],
      "authorship_tag": "ABX9TyNETNNH7IoVUOa02DP4tARE",
      "include_colab_link": true
    },
    "kernelspec": {
      "name": "python3",
      "display_name": "Python 3"
    },
    "language_info": {
      "name": "python"
    }
  },
  "cells": [
    {
      "cell_type": "markdown",
      "metadata": {
        "id": "view-in-github",
        "colab_type": "text"
      },
      "source": [
        "<a href=\"https://colab.research.google.com/github/abdurrahman16/python-2025/blob/main/file_read_and_write.ipynb\" target=\"_parent\"><img src=\"https://colab.research.google.com/assets/colab-badge.svg\" alt=\"Open In Colab\"/></a>"
      ]
    },
    {
      "cell_type": "code",
      "source": [
        "file=open('checker.txt', 'r')\n",
        "reader= file.read()\n",
        "print(reader)\n",
        "print(\"*\"*30)\n",
        "\n",
        "file=open('checker.txt', 'a')\n",
        "writer= file.write(' I live in Japang!')\n",
        "print(writer)\n"
      ],
      "metadata": {
        "id": "BVuBKjDGjBzp",
        "colab": {
          "base_uri": "https://localhost:8080/"
        },
        "outputId": "2e0a80a9-a25e-419f-ac7d-29bdf7a8a958"
      },
      "execution_count": 6,
      "outputs": [
        {
          "output_type": "stream",
          "name": "stdout",
          "text": [
            "Abdur Rahman I live in Japang! I live in Japang!\n",
            "******************************\n",
            "18\n"
          ]
        }
      ]
    }
  ]
}