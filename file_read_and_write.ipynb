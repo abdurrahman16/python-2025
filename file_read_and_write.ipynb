{
  "nbformat": 4,
  "nbformat_minor": 0,
  "metadata": {
    "colab": {
      "provenance": [],
      "authorship_tag": "ABX9TyOOzrUwR/71QNMlXZK3qQrF",
      "include_colab_link": true
    },
    "kernelspec": {
      "name": "python3",
      "display_name": "Python 3"
    },
    "language_info": {
      "name": "python"
    }
  },
  "cells": [
    {
      "cell_type": "markdown",
      "metadata": {
        "id": "view-in-github",
        "colab_type": "text"
      },
      "source": [
        "<a href=\"https://colab.research.google.com/github/abdurrahman16/python-2025/blob/main/file_read_and_write.ipynb\" target=\"_parent\"><img src=\"https://colab.research.google.com/assets/colab-badge.svg\" alt=\"Open In Colab\"/></a>"
      ]
    },
    {
      "cell_type": "code",
      "source": [
        "with open('checker.txt', 'r') as reader:\n",
        "  print(reader.read())\n"
      ],
      "metadata": {
        "id": "BVuBKjDGjBzp",
        "colab": {
          "base_uri": "https://localhost:8080/"
        },
        "outputId": "579edbb8-72d5-4acc-dacc-aff0739933aa"
      },
      "execution_count": 10,
      "outputs": [
        {
          "output_type": "stream",
          "name": "stdout",
          "text": [
            "Abdur Rahman I live in Japang! I live in Japang! I live in Japang!Ohaiyo\n"
          ]
        }
      ]
    }
  ]
}