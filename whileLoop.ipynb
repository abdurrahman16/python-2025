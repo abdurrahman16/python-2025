{
  "nbformat": 4,
  "nbformat_minor": 0,
  "metadata": {
    "colab": {
      "provenance": [],
      "authorship_tag": "ABX9TyOSSSruGZnxqZgvq3DCVU2M",
      "include_colab_link": true
    },
    "kernelspec": {
      "name": "python3",
      "display_name": "Python 3"
    },
    "language_info": {
      "name": "python"
    }
  },
  "cells": [
    {
      "cell_type": "markdown",
      "metadata": {
        "id": "view-in-github",
        "colab_type": "text"
      },
      "source": [
        "<a href=\"https://colab.research.google.com/github/abdurrahman16/python-2025/blob/main/whileLoop.ipynb\" target=\"_parent\"><img src=\"https://colab.research.google.com/assets/colab-badge.svg\" alt=\"Open In Colab\"/></a>"
      ]
    },
    {
      "cell_type": "code",
      "source": [
        "# arr=[5,10,15,12,23,15,12,23]\n",
        "# result=0\n",
        "# i=0\n",
        "\n",
        "# while i<len(arr):\n",
        "#   result+=arr[i]\n",
        "#   i+=1\n",
        "\n",
        "# print(result)\n",
        "\n",
        "newarr=[-5,10,15,-12,23,-15,12,-23]\n",
        "i=0\n",
        "while i<len(newarr):\n",
        "  if newarr[i]<0:\n",
        "    newarr[i]=0\n",
        "  i+=1\n",
        "print(newarr)\n",
        "\n",
        "\n"
      ],
      "metadata": {
        "colab": {
          "base_uri": "https://localhost:8080/"
        },
        "id": "mhSfSRsDa3ce",
        "outputId": "86b75078-e6ce-465b-edc5-4ae335647fc2"
      },
      "execution_count": 54,
      "outputs": [
        {
          "output_type": "stream",
          "name": "stdout",
          "text": [
            "[0, 10, 15, 0, 23, 0, 12, 0]\n"
          ]
        }
      ]
    }
  ]
}