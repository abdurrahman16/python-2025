{
  "nbformat": 4,
  "nbformat_minor": 0,
  "metadata": {
    "colab": {
      "provenance": [],
      "authorship_tag": "ABX9TyMSn3d+r2TCJ4o7h/bWb+z9",
      "include_colab_link": true
    },
    "kernelspec": {
      "name": "python3",
      "display_name": "Python 3"
    },
    "language_info": {
      "name": "python"
    }
  },
  "cells": [
    {
      "cell_type": "markdown",
      "metadata": {
        "id": "view-in-github",
        "colab_type": "text"
      },
      "source": [
        "<a href=\"https://colab.research.google.com/github/abdurrahman16/python-2025/blob/main/Advance_Data_Strucutres.ipynb\" target=\"_parent\"><img src=\"https://colab.research.google.com/assets/colab-badge.svg\" alt=\"Open In Colab\"/></a>"
      ]
    },
    {
      "cell_type": "code",
      "source": [
        "#dictionary practice\n",
        "my_dic={\n",
        "    \"Names\": 'Babu',\n",
        "    \"Age\": 121,\n",
        "    'Distric':'Dhaka',\n",
        "    'NewDict':\n",
        "    {\n",
        "        \"clas\": 5,\n",
        "        \"section\": 'B'\n",
        "    }\n",
        "}\n",
        "my_dic['Names']='Babban' #updated\n",
        "del my_dic['Distric']\n",
        "print(my_dic) #deleted\n",
        "print('--------------------------')\n",
        "print(my_dic.get('Name','Not found'))\n",
        "print('--------------------------')\n",
        "print('Your result is: ', list(my_dic['NewDict'].keys())[0])"
      ],
      "metadata": {
        "colab": {
          "base_uri": "https://localhost:8080/"
        },
        "id": "Oc1Y9jNT-H-s",
        "outputId": "a66b1c06-610d-455e-f253-324ba9aa44bd"
      },
      "execution_count": 29,
      "outputs": [
        {
          "output_type": "stream",
          "name": "stdout",
          "text": [
            "{'Names': 'Babban', 'Age': 121, 'NewDict': {'clas': 5, 'section': 'B'}}\n",
            "--------------------------\n",
            "Not found\n",
            "--------------------------\n",
            "Your result is:  clas\n"
          ]
        }
      ]
    }
  ]
}