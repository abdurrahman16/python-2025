{
  "nbformat": 4,
  "nbformat_minor": 0,
  "metadata": {
    "colab": {
      "provenance": [],
      "authorship_tag": "ABX9TyNI8BSzD7q2HuvVNhu6tB3I",
      "include_colab_link": true
    },
    "kernelspec": {
      "name": "python3",
      "display_name": "Python 3"
    },
    "language_info": {
      "name": "python"
    }
  },
  "cells": [
    {
      "cell_type": "markdown",
      "metadata": {
        "id": "view-in-github",
        "colab_type": "text"
      },
      "source": [
        "<a href=\"https://colab.research.google.com/github/abdurrahman16/python-2025/blob/main/Advance_Data_Strucutres.ipynb\" target=\"_parent\"><img src=\"https://colab.research.google.com/assets/colab-badge.svg\" alt=\"Open In Colab\"/></a>"
      ]
    },
    {
      "cell_type": "code",
      "source": [
        "n=3\n",
        "for i in range(n+1):\n",
        "  print(i*'*')\n",
        "\n",
        "n=3\n",
        "for i in range(n+1):\n",
        "  print((2*i-1)*'*')\n",
        "\n"
      ],
      "metadata": {
        "id": "LapSj8H1URZy",
        "colab": {
          "base_uri": "https://localhost:8080/"
        },
        "outputId": "c8539e7d-c764-4ffe-a4bd-4eb00da86b58"
      },
      "execution_count": 6,
      "outputs": [
        {
          "output_type": "stream",
          "name": "stdout",
          "text": [
            "\n",
            "*\n",
            "**\n",
            "***\n",
            "\n",
            "*\n",
            "***\n",
            "*****\n"
          ]
        }
      ]
    }
  ]
}