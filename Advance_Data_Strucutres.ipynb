{
  "nbformat": 4,
  "nbformat_minor": 0,
  "metadata": {
    "colab": {
      "provenance": [],
      "authorship_tag": "ABX9TyN4zNQZZx0sbkyKQrHd33ii",
      "include_colab_link": true
    },
    "kernelspec": {
      "name": "python3",
      "display_name": "Python 3"
    },
    "language_info": {
      "name": "python"
    }
  },
  "cells": [
    {
      "cell_type": "markdown",
      "metadata": {
        "id": "view-in-github",
        "colab_type": "text"
      },
      "source": [
        "<a href=\"https://colab.research.google.com/github/abdurrahman16/python-2025/blob/main/Advance_Data_Strucutres.ipynb\" target=\"_parent\"><img src=\"https://colab.research.google.com/assets/colab-badge.svg\" alt=\"Open In Colab\"/></a>"
      ]
    },
    {
      "cell_type": "code",
      "source": [
        "import random\n",
        "n=int(input(\"Enter your Number: \"))\n",
        "ran= int(random.random()* 100)\n",
        "if n==ran:\n",
        "  print('You wind')\n",
        "else:\n",
        "  print('You lose: ', ran)"
      ],
      "metadata": {
        "id": "LapSj8H1URZy",
        "colab": {
          "base_uri": "https://localhost:8080/"
        },
        "outputId": "90ed4bc3-979c-4ad7-c4b1-2f3218ac5b4a"
      },
      "execution_count": 10,
      "outputs": [
        {
          "output_type": "stream",
          "name": "stdout",
          "text": [
            "Enter your Number: 25\n",
            "You lose:  74\n"
          ]
        }
      ]
    }
  ]
}