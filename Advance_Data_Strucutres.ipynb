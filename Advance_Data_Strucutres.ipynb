{
  "nbformat": 4,
  "nbformat_minor": 0,
  "metadata": {
    "colab": {
      "provenance": [],
      "authorship_tag": "ABX9TyNKZQSeulA52FaoFYyKUVSL",
      "include_colab_link": true
    },
    "kernelspec": {
      "name": "python3",
      "display_name": "Python 3"
    },
    "language_info": {
      "name": "python"
    }
  },
  "cells": [
    {
      "cell_type": "markdown",
      "metadata": {
        "id": "view-in-github",
        "colab_type": "text"
      },
      "source": [
        "<a href=\"https://colab.research.google.com/github/abdurrahman16/python-2025/blob/main/Advance_Data_Strucutres.ipynb\" target=\"_parent\"><img src=\"https://colab.research.google.com/assets/colab-badge.svg\" alt=\"Open In Colab\"/></a>"
      ]
    },
    {
      "cell_type": "code",
      "source": [
        "def sq(x):\n",
        "  return x*x\n",
        "\n",
        "arr=[2,4,3,9]\n",
        "result= list(map(sq,arr))\n",
        "print(result)"
      ],
      "metadata": {
        "id": "LapSj8H1URZy",
        "colab": {
          "base_uri": "https://localhost:8080/"
        },
        "outputId": "ed5cd0bb-3ad5-4a68-f35c-7a64bc8d745a"
      },
      "execution_count": 12,
      "outputs": [
        {
          "output_type": "stream",
          "name": "stdout",
          "text": [
            "[4, 16, 9, 81]\n"
          ]
        }
      ]
    }
  ]
}