{
  "nbformat": 4,
  "nbformat_minor": 0,
  "metadata": {
    "colab": {
      "provenance": [],
      "authorship_tag": "ABX9TyOT0TAcVyXx61z0D6ZKrVpo",
      "include_colab_link": true
    },
    "kernelspec": {
      "name": "python3",
      "display_name": "Python 3"
    },
    "language_info": {
      "name": "python"
    }
  },
  "cells": [
    {
      "cell_type": "markdown",
      "metadata": {
        "id": "view-in-github",
        "colab_type": "text"
      },
      "source": [
        "<a href=\"https://colab.research.google.com/github/abdurrahman16/python-2025/blob/main/function_.ipynb\" target=\"_parent\"><img src=\"https://colab.research.google.com/assets/colab-badge.svg\" alt=\"Open In Colab\"/></a>"
      ]
    },
    {
      "cell_type": "code",
      "source": [
        "def test_function(a,b):\n",
        "   return(a+b)\n",
        "\n",
        "result= test_function(6,9)\n",
        "print(result)\n"
      ],
      "metadata": {
        "id": "dxm9yzrLapn3",
        "colab": {
          "base_uri": "https://localhost:8080/"
        },
        "outputId": "092d34b4-ea93-4519-ea3d-4fc7408d7a02"
      },
      "execution_count": 22,
      "outputs": [
        {
          "output_type": "stream",
          "name": "stdout",
          "text": [
            "15\n"
          ]
        }
      ]
    },
    {
      "cell_type": "code",
      "source": [],
      "metadata": {
        "id": "BVuBKjDGjBzp"
      },
      "execution_count": null,
      "outputs": []
    }
  ]
}