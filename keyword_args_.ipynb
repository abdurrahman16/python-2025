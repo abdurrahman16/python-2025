{
  "nbformat": 4,
  "nbformat_minor": 0,
  "metadata": {
    "colab": {
      "provenance": [],
      "authorship_tag": "ABX9TyPZDjJlR1Zpsp44H/hqMxe+",
      "include_colab_link": true
    },
    "kernelspec": {
      "name": "python3",
      "display_name": "Python 3"
    },
    "language_info": {
      "name": "python"
    }
  },
  "cells": [
    {
      "cell_type": "markdown",
      "metadata": {
        "id": "view-in-github",
        "colab_type": "text"
      },
      "source": [
        "<a href=\"https://colab.research.google.com/github/abdurrahman16/python-2025/blob/main/keyword_args_.ipynb\" target=\"_parent\"><img src=\"https://colab.research.google.com/assets/colab-badge.svg\" alt=\"Open In Colab\"/></a>"
      ]
    },
    {
      "cell_type": "code",
      "source": [
        "def test_function(**kwargs):\n",
        "    print(kwargs)\n",
        "    print(f\"My Nam is: {kwargs['name']}. I am {kwargs['age']} years old and I live in {kwargs['address']}!\")\n",
        "\n",
        "test_function(name='Rahman', age=25, address='Japan')\n"
      ],
      "metadata": {
        "id": "dxm9yzrLapn3",
        "colab": {
          "base_uri": "https://localhost:8080/"
        },
        "outputId": "0254eed7-d89a-4137-d73f-452cd784f57b"
      },
      "execution_count": 27,
      "outputs": [
        {
          "output_type": "stream",
          "name": "stdout",
          "text": [
            "My Nam is: Rahman. I am 25 years old and I live in Japan!\n"
          ]
        }
      ]
    },
    {
      "cell_type": "code",
      "source": [],
      "metadata": {
        "id": "BVuBKjDGjBzp"
      },
      "execution_count": null,
      "outputs": []
    }
  ]
}