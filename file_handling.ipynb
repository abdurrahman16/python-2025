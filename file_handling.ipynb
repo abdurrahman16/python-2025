{
  "nbformat": 4,
  "nbformat_minor": 0,
  "metadata": {
    "colab": {
      "provenance": [],
      "authorship_tag": "ABX9TyMfXr7K4ZvegPxYtVDonCxE",
      "include_colab_link": true
    },
    "kernelspec": {
      "name": "python3",
      "display_name": "Python 3"
    },
    "language_info": {
      "name": "python"
    }
  },
  "cells": [
    {
      "cell_type": "markdown",
      "metadata": {
        "id": "view-in-github",
        "colab_type": "text"
      },
      "source": [
        "<a href=\"https://colab.research.google.com/github/abdurrahman16/python-2025/blob/main/file_handling.ipynb\" target=\"_parent\"><img src=\"https://colab.research.google.com/assets/colab-badge.svg\" alt=\"Open In Colab\"/></a>"
      ]
    },
    {
      "cell_type": "code",
      "source": [
        "file= open('checker.txt','r')\n",
        "reader= file.read()\n",
        "print(reader)"
      ],
      "metadata": {
        "id": "BVuBKjDGjBzp",
        "colab": {
          "base_uri": "https://localhost:8080/"
        },
        "outputId": "dcee20c9-ad78-47f6-e8af-a552ee28b1d0"
      },
      "execution_count": 49,
      "outputs": [
        {
          "output_type": "stream",
          "name": "stdout",
          "text": [
            "Abdur Rahman\n"
          ]
        }
      ]
    }
  ]
}